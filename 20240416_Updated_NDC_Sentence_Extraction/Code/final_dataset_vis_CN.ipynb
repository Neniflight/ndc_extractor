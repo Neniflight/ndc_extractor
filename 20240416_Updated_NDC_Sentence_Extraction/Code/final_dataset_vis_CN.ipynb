{
 "cells": [
  {
   "cell_type": "code",
   "execution_count": null,
   "metadata": {},
   "outputs": [],
   "source": [
    "import pandas as pd\n",
    "import numpy as np\n",
    "pd.options.mode.chained_assignment = None "
   ]
  },
  {
   "cell_type": "code",
   "execution_count": null,
   "metadata": {},
   "outputs": [],
   "source": [
    "df = pd.read_csv(\"../Output/topic_keyword_freq_NDC_sentences_CN.csv\")\n",
    "df['num_words'] = df['text_content'].apply(lambda x: len(x.split()))\n",
    "df"
   ]
  },
  {
   "cell_type": "code",
   "execution_count": null,
   "metadata": {},
   "outputs": [],
   "source": [
    "grouped = df.groupby([\"iso\",\"country\", \"ndc\", \"date\"]).sum()\n",
    "grouped"
   ]
  },
  {
   "cell_type": "code",
   "execution_count": null,
   "metadata": {},
   "outputs": [],
   "source": [
    "keywords_df = pd.read_csv(\"../Data/keywords_for_marine_policy.csv\")\n",
    "keywords = list(set(keywords_df['Keyword']))\n",
    "topics = list(set(keywords_df['Topic']))"
   ]
  },
  {
   "cell_type": "code",
   "execution_count": null,
   "metadata": {},
   "outputs": [],
   "source": [
    "for topic in topics:\n",
    "    grouped[topic + \"_freq_per_10000\"] = (grouped[topic] / grouped[\"num_words\"]) * 10000\n",
    "for keyword in keywords:\n",
    "    grouped[keyword + \"_freq_per_10000\"] = (grouped[keyword] / grouped[\"num_words\"]) * 10000\n",
    "grouped['keyword_freq_per_10000'] = (grouped[keywords].sum(axis=1) / grouped['num_words']) * 10000\n",
    "grouped "
   ]
  },
  {
   "cell_type": "code",
   "execution_count": null,
   "metadata": {},
   "outputs": [],
   "source": [
    "overall_drop = list(set(keywords + topics))\n",
    "grouped = grouped.drop(columns=overall_drop)\n",
    "grouped = grouped.drop(columns=['fisheries.1'])\n",
    "grouped"
   ]
  },
  {
   "cell_type": "code",
   "execution_count": null,
   "metadata": {},
   "outputs": [],
   "source": [
    "grouped = grouped.reset_index()\n",
    "grouped"
   ]
  },
  {
   "cell_type": "code",
   "execution_count": null,
   "metadata": {},
   "outputs": [],
   "source": [
    "grouped[grouped['iso'] == 'SSD']"
   ]
  },
  {
   "cell_type": "code",
   "execution_count": null,
   "metadata": {},
   "outputs": [],
   "source": [
    "country_to_code = pd.read_csv(\"https://gist.githubusercontent.com/radcliff/f09c0f88344a7fcef373/raw/2753c482ad091c54b1822288ad2e4811c021d8ec/wikipedia-iso-country-codes.csv\")\n",
    "country_to_code"
   ]
  },
  {
   "cell_type": "code",
   "execution_count": null,
   "metadata": {},
   "outputs": [],
   "source": [
    "country_to_code.astype({\"Numeric code\": object})\n",
    "def three_dig_num(num):\n",
    "    num = str(num)\n",
    "    if len(num) == 1:\n",
    "        return \"00\" + num \n",
    "    elif len(num) == 2:\n",
    "        return \"0\" + num\n",
    "    else:\n",
    "        return num \n",
    "country_to_code[\"Numeric code\"] = country_to_code[\"Numeric code\"].apply(three_dig_num)\n",
    "country_to_code\n"
   ]
  },
  {
   "cell_type": "code",
   "execution_count": null,
   "metadata": {},
   "outputs": [],
   "source": [
    "cool_dict = {country_to_code.loc[i,\"Alpha-3 code\"]: country_to_code.loc[i, \"Numeric code\"] for i in country_to_code.index}\n",
    "cool_dict[\"SSD\"] = 728\n",
    "cool_dict"
   ]
  },
  {
   "cell_type": "code",
   "execution_count": null,
   "metadata": {},
   "outputs": [],
   "source": [
    "grouped['numeric_code'] = grouped['iso'].apply(lambda x: cool_dict[x])\n",
    "grouped"
   ]
  },
  {
   "cell_type": "code",
   "execution_count": null,
   "metadata": {},
   "outputs": [],
   "source": [
    "grouped['date_ndc'] = pd.to_datetime(grouped['date'])\n",
    "most_recent_ndcs = grouped.loc[grouped.groupby('country')['date_ndc'].idxmax()]\n",
    "most_recent_ndcs = most_recent_ndcs.drop(columns=[\"date_ndc\"])\n",
    "most_recent_ndcs"
   ]
  },
  {
   "cell_type": "code",
   "execution_count": null,
   "metadata": {},
   "outputs": [],
   "source": [
    "def in_EU(string):\n",
    "    return string in [\"AUT\", \"BEL\", \"BGR\", \"HRV\", \"CYP\", \"CZE\", \"DNK\", \"EST\", \"FIN\", \"FRA\", \"DEU\", \"GRC\", \"HUN\", \"IRL\", \"ITA\", \"LVA\", \"LTU\", \"LUX\", \"MLT\", \"NLD\", \"POL\", \"PRT\", \"ROU\", \"SVK\", \"SVN\", \"ESP\", \"SWE\"]"
   ]
  },
  {
   "cell_type": "code",
   "execution_count": null,
   "metadata": {},
   "outputs": [],
   "source": [
    "iso_to_country = {\n",
    "    \"BEL\": \"Belgium\",\n",
    "    \"BGR\": \"Bulgaria\",\n",
    "    \"HRV\": \"Croatia\",\n",
    "    \"CYP\": \"Cyprus\",\n",
    "    \"CZE\": \"Czech Republic\",\n",
    "    \"DNK\": \"Denmark\",\n",
    "    \"EST\": \"Estonia\", \n",
    "    \"FIN\": \"Finland\",\n",
    "    \"FRA\": \"France\",\n",
    "    \"DEU\": \"Germany\",\n",
    "    \"GRC\": \"Greece\",\n",
    "    \"HUN\": \"Hungary\",\n",
    "    \"IRL\": \"Ireland\",\n",
    "    \"ITA\": \"Italy\",\n",
    "    \"LVA\": \"Latvia\", \n",
    "    \"LTU\": \"Lithuania\", \n",
    "    \"LUX\": \"Luxembourg\", \n",
    "    \"MLT\": \"Malta\", \n",
    "    \"NLD\": \"Netherlands\", \n",
    "    \"POL\": \"Poland\",\n",
    "    \"PRT\": \"Portugal\",\n",
    "    \"ROU\": \"Romania\", \n",
    "    \"SVK\": \"Slovakia\",\n",
    "    \"SVN\": \"Slovenia\",\n",
    "    \"ESP\": \"Spain\",\n",
    "    \"SWE\": \"Sweden\"\n",
    "}"
   ]
  },
  {
   "cell_type": "code",
   "execution_count": null,
   "metadata": {},
   "outputs": [],
   "source": [
    "most_recent_ndcs = most_recent_ndcs.reset_index(drop=True)\n",
    "most_recent_ndcs"
   ]
  },
  {
   "cell_type": "code",
   "execution_count": null,
   "metadata": {},
   "outputs": [],
   "source": [
    "most_recent_ndcs[most_recent_ndcs['iso'].apply(in_EU)]"
   ]
  },
  {
   "cell_type": "code",
   "execution_count": null,
   "metadata": {},
   "outputs": [],
   "source": [
    "for iso_code in iso_to_country:\n",
    "    country_name = iso_to_country[iso_code]\n",
    "    old_row = most_recent_ndcs.loc[51]\n",
    "    old_row.loc['iso'] = iso_code \n",
    "    old_row.loc['country'] = country_name \n",
    "    old_row.loc['numeric_code'] = cool_dict[iso_code]\n",
    "    most_recent_ndcs.loc[len(most_recent_ndcs)] = old_row\n",
    "most_recent_ndcs"
   ]
  },
  {
   "cell_type": "code",
   "execution_count": null,
   "metadata": {},
   "outputs": [],
   "source": [
    "most_recent_ndcs = most_recent_ndcs.sort_values(by=\"country\").reset_index(drop=True)\n",
    "most_recent_ndcs"
   ]
  },
  {
   "cell_type": "code",
   "execution_count": null,
   "metadata": {},
   "outputs": [],
   "source": [
    "aut_index = most_recent_ndcs[most_recent_ndcs['iso'] == \"AUT\"].index[0]\n",
    "most_recent_ndcs.loc[aut_index, 'country'] = \"Austria\"\n",
    "most_recent_ndcs"
   ]
  },
  {
   "cell_type": "code",
   "execution_count": null,
   "metadata": {},
   "outputs": [],
   "source": [
    "most_recent_ndcs[most_recent_ndcs[\"country\"] == \"Austria\"]"
   ]
  },
  {
   "cell_type": "code",
   "execution_count": null,
   "metadata": {},
   "outputs": [],
   "source": [
    "most_recent_ndcs.to_csv(\"../Output/topic_keyword_freq_by_countryndc_CN.csv\", index=False)"
   ]
  },
  {
   "cell_type": "code",
   "execution_count": null,
   "metadata": {},
   "outputs": [],
   "source": []
  }
 ],
 "metadata": {
  "kernelspec": {
   "display_name": "base",
   "language": "python",
   "name": "python3"
  },
  "language_info": {
   "codemirror_mode": {
    "name": "ipython",
    "version": 3
   },
   "file_extension": ".py",
   "mimetype": "text/x-python",
   "name": "python",
   "nbconvert_exporter": "python",
   "pygments_lexer": "ipython3",
   "version": "3.9.12"
  }
 },
 "nbformat": 4,
 "nbformat_minor": 2
}
